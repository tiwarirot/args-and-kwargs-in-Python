{
 "cells": [
  {
   "cell_type": "code",
   "execution_count": 1,
   "metadata": {},
   "outputs": [
    {
     "name": "stdout",
     "output_type": "stream",
     "text": [
      "Welcome\n",
      "To\n",
      "2021\n"
     ]
    }
   ],
   "source": [
    "def myFun(*argv):\n",
    "    for arg in argv:\n",
    "        print(arg)\n",
    "myFun('Welcome','To','2021')"
   ]
  },
  {
   "cell_type": "code",
   "execution_count": 2,
   "metadata": {},
   "outputs": [
    {
     "name": "stdout",
     "output_type": "stream",
     "text": [
      "First argument:  Hello\n",
      "Next argument through *argv:  Welcome\n",
      "Next argument through *argv:  To\n",
      "Next argument through *argv:  2021\n"
     ]
    }
   ],
   "source": [
    "def myFun(arg1, *argv):\n",
    "    print('First argument: ', arg1)\n",
    "    for arg in argv:\n",
    "        print('Next argument through *argv: ', arg)\n",
    "myFun('Hello', 'Welcome', 'To', '2021')"
   ]
  },
  {
   "cell_type": "code",
   "execution_count": 3,
   "metadata": {},
   "outputs": [
    {
     "name": "stdout",
     "output_type": "stream",
     "text": [
      "first == New\n",
      "mid == Year\n",
      "last == 2021\n"
     ]
    }
   ],
   "source": [
    "# **kwargs\n",
    "def myFun(**kwargs):\n",
    "    for key, value in kwargs.items():\n",
    "        print('%s == %s' %(key, value))\n",
    "\n",
    "myFun(first='New', mid='Year', last='2021')"
   ]
  },
  {
   "cell_type": "code",
   "execution_count": 4,
   "metadata": {},
   "outputs": [
    {
     "name": "stdout",
     "output_type": "stream",
     "text": [
      "First argument:  Hello\n",
      "first == New\n",
      "mid == Year\n",
      "last == 2021\n"
     ]
    }
   ],
   "source": [
    "def myFun(arg1, **kwargs):\n",
    "    print(\"First argument: \", arg1)\n",
    "    for key, value in kwargs.items():\n",
    "        print(\"%s == %s\" %(key, value))\n",
    "\n",
    "myFun('Hello', first='New', mid='Year', last='2021')"
   ]
  },
  {
   "cell_type": "code",
   "execution_count": 5,
   "metadata": {},
   "outputs": [
    {
     "name": "stdout",
     "output_type": "stream",
     "text": [
      "arg1:  Welcome\n",
      "arg2:  To\n",
      "arg3:  2021\n",
      "arg1:  Welcome\n",
      "arg2:  To\n",
      "arg3:  2021\n"
     ]
    }
   ],
   "source": [
    "# *args and **kwargs\n",
    "def myFun(arg1, arg2, arg3):\n",
    "    print('arg1: ', arg1)\n",
    "    print('arg2: ', arg2)\n",
    "    print('arg3: ', arg3)\n",
    "\n",
    "args = ('Welcome','To','2021')\n",
    "myFun(*args)\n",
    "\n",
    "kwargs = {'arg1':'Welcome', 'arg2':'To', 'arg3':'2021'}\n",
    "myFun(**kwargs)"
   ]
  },
  {
   "cell_type": "code",
   "execution_count": null,
   "metadata": {},
   "outputs": [],
   "source": []
  }
 ],
 "metadata": {
  "kernelspec": {
   "display_name": "Python 3",
   "language": "python",
   "name": "python3"
  },
  "language_info": {
   "codemirror_mode": {
    "name": "ipython",
    "version": 3
   },
   "file_extension": ".py",
   "mimetype": "text/x-python",
   "name": "python",
   "nbconvert_exporter": "python",
   "pygments_lexer": "ipython3",
   "version": "3.6.5"
  }
 },
 "nbformat": 4,
 "nbformat_minor": 2
}
